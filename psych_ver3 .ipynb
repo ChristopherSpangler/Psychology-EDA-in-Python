{
 "cells": [
  {
   "cell_type": "code",
   "execution_count": 1757,
   "metadata": {},
   "outputs": [],
   "source": [
    "#Importing the necessary libraries\n",
    "\n",
    "from sodapy import Socrata\n",
    "import pandas as pd\n",
    "import numpy as np\n",
    "import matplotlib.pyplot as plt\n",
    "import re\n",
    "%matplotlib inline\n",
    "\n",
    "plt.rcParams['figure.figsize'] = (8, 6)\n",
    "plt.rcParams[\"font.size\"] = 14"
   ]
  },
  {
   "cell_type": "markdown",
   "metadata": {},
   "source": [
    "Inpatient Psychiatric Facility Quality Measure Data – by Facility\n",
    "\n",
    "COMMUNITY Hospital Compare\n",
    "\n",
    "Psychiatric facilities that are eligible for the Inpatient Psychiatric Facility Quality Reporting (IPFQR) \n",
    "program are required to meet all program requirements, otherwise their Medicare payments may be reduced. \n",
    "\n",
    "Follow-Up After Hospitalization for Mental Illness (FUH) measure data on this table are marked as not available. \n",
    "Results for this measure are provided on a separate table.\n",
    "\n",
    "df dimensions are: (1653 by 93)\n",
    "\n",
    "Common Core\n",
    "Publisher\tCenters for Medicare & Medicaid Services (CMS)\n",
    "Contact Name\tHospital Compare\n",
    "Contact Email\tHospitalCompare@lantanagroup.com\n",
    "Bureau Code\t009:38\n",
    "Program Code\t009:078\n",
    "Topics\n",
    "Category\tHospital Compare\n",
    "Tags\t\n",
    "hospital compare, timely and effective care, psych, facility\n",
    "\n",
    "(All of this is from data.medicare.gov)"
   ]
  },
  {
   "cell_type": "markdown",
   "metadata": {},
   "source": [
    "## Calling the first API "
   ]
  },
  {
   "cell_type": "code",
   "execution_count": 1758,
   "metadata": {},
   "outputs": [
    {
     "name": "stderr",
     "output_type": "stream",
     "text": [
      "WARNING:root:Requests made without an app_token will be subject to strict throttling limits.\n"
     ]
    }
   ],
   "source": [
    "# Unauthenticated client only works with public data sets. \n",
    "client = Socrata(\"data.medicare.gov\", None)\n",
    "\n",
    "# First 2000 results, returned as JSON from API / converted to Python list of\n",
    "# dictionaries by sodapy.\n",
    "results = client.get(\"q9vs-r7wp\", limit=2000)\n",
    "\n",
    "# Convert to pandas DataFrame\n",
    "qmd_df = pd.DataFrame.from_records(results)\n",
    "\n",
    "#https://data.medicare.gov/resource/v7vx-dht4.json"
   ]
  },
  {
   "cell_type": "code",
   "execution_count": 1759,
   "metadata": {},
   "outputs": [
    {
     "data": {
      "text/plain": [
       "(1653, 93)"
      ]
     },
     "execution_count": 1759,
     "metadata": {},
     "output_type": "execute_result"
    }
   ],
   "source": [
    "qmd_df.shape"
   ]
  },
  {
   "cell_type": "markdown",
   "metadata": {},
   "source": [
    " I decided to remove the footnotes columns, as they were unnecessary.\n",
    " The footnotes usually fell into one of three categories: \n",
    "     1. Number of cases is too few to report\n",
    "     2. No results were available for the specific reporting period, or\n",
    "     3. No cases met the criteria for such a measure\n",
    " Repeatitive and unnecessary data colums were also removed, such as address, city, county name, etc.\n",
    " \"fuh_30\" and \"fuh_7\" were omitted, as they are covered in the \"fuh\" joined df."
   ]
  },
  {
   "cell_type": "markdown",
   "metadata": {},
   "source": [
    "Here, we can see the number of rows is equal to 1653, and the number of columns is equal to 93"
   ]
  },
  {
   "cell_type": "code",
   "execution_count": 1760,
   "metadata": {},
   "outputs": [],
   "source": [
    "\n",
    "abridged_qmd_df = qmd_df[[  \n",
    "       #We will be joining on the \"provider_number\" column\n",
    "       'provider_number',\n",
    "       #Physical restraint use\n",
    "       'hbips_2_overall_num',\n",
    "       #'hbips_2_overall_den',\n",
    "       'hbips_2_overall_rate_per_1000',\n",
    "       #Hours of seclusion\n",
    "       'hbips_3_overall_num', \n",
    "       #'hbips_3_overall_den',\n",
    "       'hbips_3_overall_rate_per_1000', \n",
    "       #Patients discharged on multiple antipsychotic medication with Justification\n",
    "       'hbips_5_overall_num',\n",
    "       #'hbips_5_overall_den',\n",
    "       'hbips_5_overall__of_total',\n",
    "       #Alcohol use screening\n",
    "       'sub_1_numerator', \n",
    "       #'sub_1_denominator',\n",
    "       'sub_1_',\n",
    "       #Tobacco use screening\n",
    "       'tob_1_numerator', \n",
    "       #'tob_1_denominator', \n",
    "       'tob_1_'\n",
    "    ]]"
   ]
  },
  {
   "cell_type": "code",
   "execution_count": 1761,
   "metadata": {},
   "outputs": [
    {
     "data": {
      "text/plain": [
       "(1653, 11)"
      ]
     },
     "execution_count": 1761,
     "metadata": {},
     "output_type": "execute_result"
    }
   ],
   "source": [
    "abridged_qmd_df.shape"
   ]
  },
  {
   "cell_type": "code",
   "execution_count": 1762,
   "metadata": {},
   "outputs": [],
   "source": [
    "#renaming the columns of the abridged Quality Measure Data\n",
    "abridged_qmd_df.columns = [\n",
    "\n",
    "       \"provider_number\",\n",
    "       \"pr_num\",\n",
    "       #\"pr_den\",\n",
    "       \"pr_rate_per_1000\",\n",
    "       \"seclusion_num\", \n",
    "       #\"seclusion_den\",\n",
    "       \"seclusion_rate_per_1000\", \n",
    "       \"antipsychotics_num\",\n",
    "       #\"antipsychotics_den\",\n",
    "       \"antipsychotics_percentage\",\n",
    "       \"alcohol_num\", \n",
    "       #\"alchol_den\",\n",
    "       \"alcohol_percentage\",\n",
    "       \"tobacco_num\", \n",
    "       #\"tobacco_den\", \n",
    "       \"tobacco_percentage\"\n",
    "\n",
    "]\n",
    "\n",
    "rn_qmd_df = abridged_qmd_df"
   ]
  },
  {
   "cell_type": "markdown",
   "metadata": {},
   "source": [
    "Inpatient Psychiatric Facility Follow-Up After Hospitalization for Mental Illness (FUH) Quality Measure Data \n",
    "– by Facility\n",
    "\n",
    "\n",
    "Psychiatric facilities that are eligible for the Inpatient Psychiatric Facility Quality Reporting (IPFQR) program are\n",
    "required to meet all program requirements, otherwise their Medicare payments may be reduced. \n",
    "This table contains recalculated Follow-Up After Hospitalization for Mental Illness (FUH) measure data.\n",
    "\n",
    "\n",
    "\n",
    "(1655 by 25)\n",
    "\n",
    "\n",
    "\n",
    "Common Core\n",
    "Contact Name\tHospital Compare\n",
    "Contact Email\tHospitalCompare@lantanagroup.com\n",
    "Bureau Code\t009:38\n",
    "Program Code\t009:000\n",
    "Topics\n",
    "Category\tHospital Compare\n",
    "\n",
    "(Again, all of this is from data.medicare.gov)"
   ]
  },
  {
   "cell_type": "markdown",
   "metadata": {},
   "source": [
    "## Calling the second API"
   ]
  },
  {
   "cell_type": "code",
   "execution_count": 1763,
   "metadata": {},
   "outputs": [
    {
     "name": "stderr",
     "output_type": "stream",
     "text": [
      "WARNING:root:Requests made without an app_token will be subject to strict throttling limits.\n"
     ]
    }
   ],
   "source": [
    "# Unauthenticated client only works with public data sets.\n",
    "client = Socrata(\"data.medicare.gov\", None)\n",
    "\n",
    "# First 2000 results, returned as JSON from API / converted to Python list of\n",
    "# dictionaries by sodapy.\n",
    "\n",
    "results2 = client.get(\"icmf-9iaa\", limit=2000)\n",
    "\n",
    "# Convert to pandas DataFrame\n",
    "fuh_df = pd.DataFrame.from_records(results2)\n",
    "\n",
    "#https://data.medicare.gov/resource/icmf-9iaa.json"
   ]
  },
  {
   "cell_type": "code",
   "execution_count": 1764,
   "metadata": {},
   "outputs": [
    {
     "data": {
      "text/plain": [
       "(1655, 25)"
      ]
     },
     "execution_count": 1764,
     "metadata": {},
     "output_type": "execute_result"
    }
   ],
   "source": [
    "fuh_df.shape"
   ]
  },
  {
   "cell_type": "markdown",
   "metadata": {},
   "source": [
    "## Emailing the online support center: data.medicare.gov "
   ]
  },
  {
   "cell_type": "markdown",
   "metadata": {},
   "source": [
    "Here, we can see that the number of columns is 25, HOWEVER, the number of rows is equal to 1655, 2 more than the previous dataframe... Why is that? After emailing the online support center for data.medicare.gov, I received the following explanation:\n",
    "\n",
    "Response Via Email (Jan Fredericksen)\t02/13/2019 08:43 AM\n",
    "\n",
    "\"The providers listed in the data posted on the Hospital Compare site may vary based on the timing of the creation of the file and the source of the data. The FUH measure data are calculated separately by CMS and do not require providers to submit data; therefore, the list of participating IPFs at the time the files were finalized differed slightly. Providers are identified by their CMS Certification Number, referred to as “Provider_Number” in the file.\""
   ]
  },
  {
   "cell_type": "markdown",
   "metadata": {},
   "source": [
    "### So the difference is due to the separate calculation of the two data sets, and the same number of providers are not required to submit data. The email also shows that we will be joining on the column \"Provider_Number,\" as it is the unique key."
   ]
  },
  {
   "cell_type": "markdown",
   "metadata": {},
   "source": [
    "# N.B. The collection period for the data is, effectively, 7/01/2015 -- 6/30/2016"
   ]
  },
  {
   "cell_type": "code",
   "execution_count": 1765,
   "metadata": {},
   "outputs": [],
   "source": [
    "# I decided to remove the footnotes columns, as they were largely unnecessary.\n",
    "# See above for the reasons for missing data\n",
    "# Repeatitive and unnecessary data colums were also removed, such as address, city, county name, etc.\n",
    "# \"fuh_30\" and \"fuh_7\" are now present, as they were absent in the previous dataframe\n",
    "\n",
    "abridged_fuh_df = fuh_df[\n",
    "    [\n",
    "     #we will be joining on \"provider_number\"\n",
    "     \"provider_number\", \n",
    "     # Percent of patients receiving follow-up care within 30 days (FUH-30) \n",
    "     \"fuh_30_numerator\", \n",
    "     #\"fuh_30_denominator\",\n",
    "     \"fuh_30_\",\n",
    "     # or within 7 days (FUH-7) after hospitalization for mental illness\n",
    "     \"fuh_7_numerator\", \n",
    "     #\"fuh_7_denominator\",\n",
    "     \"fuh_7_\", \n",
    "     #omitted from last data frame\n",
    "     \"state\"     \n",
    "    ]]"
   ]
  },
  {
   "cell_type": "code",
   "execution_count": 1766,
   "metadata": {},
   "outputs": [
    {
     "data": {
      "text/plain": [
       "(1655, 6)"
      ]
     },
     "execution_count": 1766,
     "metadata": {},
     "output_type": "execute_result"
    }
   ],
   "source": [
    "abridged_fuh_df.shape"
   ]
  },
  {
   "cell_type": "code",
   "execution_count": 1767,
   "metadata": {},
   "outputs": [],
   "source": [
    "#renaming the Follow up after Hospitalization df \n",
    "abridged_fuh_df.columns = [\n",
    "     #we will be joining on \"pn\"\n",
    "     \"provider_number\",\n",
    "     # Percent of patients receiving follow-up care within 30 days (FUH-30) \n",
    "     \"followup_30_num\", \n",
    "     #\"followup_30_den\",\n",
    "     \"followup_30_percentage\",\n",
    "     # or within 7 days (FUH-7) after hospitalization for mental illness\n",
    "     \"followup_7_num\", \n",
    "     #\"followup_7_den\",\n",
    "     \"followup_7_percentage\", \n",
    "     #omitted from last data frame\n",
    "     \"state\" \n",
    "    ]\n",
    "#renaming the df\n",
    "rn_fuh_df = abridged_fuh_df"
   ]
  },
  {
   "cell_type": "markdown",
   "metadata": {},
   "source": [
    "## Merging the two dataframes on \"provider_number\""
   ]
  },
  {
   "cell_type": "code",
   "execution_count": 1768,
   "metadata": {},
   "outputs": [],
   "source": [
    "#Merging the API dataframes, using the provider_number\" column as the linking key\n",
    "merged_df = pd.merge(rn_qmd_df, rn_fuh_df, how='left', on= \"provider_number\", left_on=None, right_on=None,\n",
    "         left_index=False, right_index=False, sort=True,\n",
    "         suffixes=('_x', '_y'), copy=True, indicator=False,\n",
    "         validate= None)"
   ]
  },
  {
   "cell_type": "code",
   "execution_count": 1769,
   "metadata": {},
   "outputs": [
    {
     "data": {
      "text/plain": [
       "(1653, 16)"
      ]
     },
     "execution_count": 1769,
     "metadata": {},
     "output_type": "execute_result"
    }
   ],
   "source": [
    "merged_df.shape"
   ]
  },
  {
   "cell_type": "code",
   "execution_count": 1801,
   "metadata": {},
   "outputs": [],
   "source": [
    "class Removal:\n",
    "    def __init__(self, c):\n",
    "        self.c = c\n",
    "    def __cleaner__(self, c):\n",
    "        if c == \"Not Available\":\n",
    "            return self.np.NaN \n",
    "        else:\n",
    "            return self.float(re.sub(\"%\", \"\", c))\n",
    "    def __nancleaner__(self, c):\n",
    "        if c == \"Not Available\":\n",
    "            return self.np.NaN\n",
    "        else: \n",
    "            return self.float(c)\n",
    "    def __strip_percentage__(self, p):\n",
    "        return self.re.sub(\"%\", \"\", p)"
   ]
  },
  {
   "cell_type": "markdown",
   "metadata": {},
   "source": [
    "## Now, some \"user-defined\" functions in order to facilitate cleaning up the data into floats so that we can actually perform calculations on it"
   ]
  },
  {
   "cell_type": "code",
   "execution_count": 1770,
   "metadata": {},
   "outputs": [],
   "source": [
    "# This function helps if there are both percentage signs and \"Not Available\" values, which are not NaN's because\n",
    "# they are literally text values.\n",
    "def cleaner(c):\n",
    "    if c == \"Not Available\":\n",
    "        return np.NaN \n",
    "    else:\n",
    "        return float(re.sub(\"%\", \"\", c))\n",
    "        "
   ]
  },
  {
   "cell_type": "code",
   "execution_count": 1771,
   "metadata": {},
   "outputs": [],
   "source": [
    "# This function cleans \"Not Available\" to NaN values, without there being percentages present.\n",
    "def nancleaner(c):\n",
    "    if c == \"Not Available\":\n",
    "        return np.NaN\n",
    "    else: \n",
    "        return float(c)"
   ]
  },
  {
   "cell_type": "code",
   "execution_count": 1772,
   "metadata": {},
   "outputs": [],
   "source": [
    "# This function will strip the percentages from columns with such values\n",
    "def strip_percentage(p):\n",
    "    return re.sub(\"%\", \"\", p) "
   ]
  },
  {
   "cell_type": "code",
   "execution_count": 1773,
   "metadata": {},
   "outputs": [],
   "source": [
    "#Just seeing what I can convert before we use the functions\n",
    "merged_df2 = merged_df.apply(pd.to_numeric, errors='ignore')"
   ]
  },
  {
   "cell_type": "code",
   "execution_count": 1774,
   "metadata": {
    "scrolled": true
   },
   "outputs": [
    {
     "data": {
      "text/plain": [
       "provider_number                int64\n",
       "pr_num                       float64\n",
       "pr_rate_per_1000             float64\n",
       "seclusion_num                 object\n",
       "seclusion_rate_per_1000      float64\n",
       "antipsychotics_num            object\n",
       "antipsychotics_percentage    float64\n",
       "alcohol_num                   object\n",
       "alcohol_percentage            object\n",
       "tobacco_num                   object\n",
       "tobacco_percentage            object\n",
       "followup_30_num               object\n",
       "followup_30_percentage        object\n",
       "followup_7_num                object\n",
       "followup_7_percentage         object\n",
       "state                         object\n",
       "dtype: object"
      ]
     },
     "execution_count": 1774,
     "metadata": {},
     "output_type": "execute_result"
    }
   ],
   "source": [
    "merged_df2.dtypes"
   ]
  },
  {
   "cell_type": "markdown",
   "metadata": {},
   "source": [
    "OK, so we still need to convert several columns to floats. No worries!\n"
   ]
  },
  {
   "cell_type": "code",
   "execution_count": 1775,
   "metadata": {},
   "outputs": [],
   "source": [
    "# removing the \"%\" signs, putting in Nan's for \"Not Available\" and \"floating\" values \n",
    "merged_df2[\"alcohol_percentage\"] = merged_df2[\"alcohol_percentage\"].map(cleaner)\n",
    "merged_df2[\"tobacco_percentage\"] = merged_df2[\"tobacco_percentage\"].map(cleaner)"
   ]
  },
  {
   "cell_type": "code",
   "execution_count": 1776,
   "metadata": {},
   "outputs": [],
   "source": [
    "#putting in NaN's for \"Not Available\", and \"floating\" values\n",
    "merged_df2[\"seclusion_num\"] = merged_df2[\"seclusion_num\"].map(lambda c: nancleaner(c))\n",
    "merged_df2[\"antipsychotics_num\"] = merged_df2[\"antipsychotics_num\"].map(lambda c: nancleaner(c))\n",
    "merged_df2[\"antipsychotics_percentage\"] = merged_df2[\"antipsychotics_percentage\"].map(lambda c: nancleaner(c))\n",
    "merged_df2[\"alcohol_num\"] = merged_df2[\"alcohol_num\"].map(lambda c: nancleaner(c))\n",
    "merged_df2[\"tobacco_num\"] = merged_df2[\"tobacco_num\"].map(lambda c: nancleaner(c))\n",
    "merged_df2[\"followup_30_num\"] = merged_df2[\"followup_30_num\"].map(lambda c: nancleaner(c))\n",
    "merged_df2[\"followup_30_percentage\"] = merged_df2[\"followup_30_percentage\"].map(lambda c: nancleaner(c))\n",
    "merged_df2[\"followup_7_num\"] = merged_df2[\"followup_7_num\"].map(lambda c: nancleaner(c))\n",
    "merged_df2[\"followup_7_percentage\"] = merged_df2[\"followup_7_percentage\"].map(lambda c: nancleaner(c))"
   ]
  },
  {
   "cell_type": "code",
   "execution_count": 1777,
   "metadata": {
    "scrolled": true
   },
   "outputs": [
    {
     "data": {
      "text/plain": [
       "provider_number                int64\n",
       "pr_num                       float64\n",
       "pr_rate_per_1000             float64\n",
       "seclusion_num                float64\n",
       "seclusion_rate_per_1000      float64\n",
       "antipsychotics_num           float64\n",
       "antipsychotics_percentage    float64\n",
       "alcohol_num                  float64\n",
       "alcohol_percentage           float64\n",
       "tobacco_num                  float64\n",
       "tobacco_percentage           float64\n",
       "followup_30_num              float64\n",
       "followup_30_percentage       float64\n",
       "followup_7_num               float64\n",
       "followup_7_percentage        float64\n",
       "state                         object\n",
       "dtype: object"
      ]
     },
     "execution_count": 1777,
     "metadata": {},
     "output_type": "execute_result"
    }
   ],
   "source": [
    "merged_df2.dtypes"
   ]
  },
  {
   "cell_type": "code",
   "execution_count": 1778,
   "metadata": {},
   "outputs": [
    {
     "data": {
      "text/plain": [
       "(1653, 16)"
      ]
     },
     "execution_count": 1778,
     "metadata": {},
     "output_type": "execute_result"
    }
   ],
   "source": [
    "merged_df2.shape"
   ]
  },
  {
   "cell_type": "markdown",
   "metadata": {},
   "source": [
    "## Great! It appears that all the appropriate values are floats, ready for numerical analysis. Now, let's check the nulls in order to see how many we have and what we can do with them: "
   ]
  },
  {
   "cell_type": "code",
   "execution_count": 1779,
   "metadata": {},
   "outputs": [
    {
     "data": {
      "text/plain": [
       "provider_number                0\n",
       "pr_num                        18\n",
       "pr_rate_per_1000              38\n",
       "seclusion_num                 18\n",
       "seclusion_rate_per_1000       44\n",
       "antipsychotics_num           816\n",
       "antipsychotics_percentage    890\n",
       "alcohol_num                   74\n",
       "alcohol_percentage            74\n",
       "tobacco_num                   62\n",
       "tobacco_percentage            62\n",
       "followup_30_num              314\n",
       "followup_30_percentage       314\n",
       "followup_7_num               512\n",
       "followup_7_percentage        512\n",
       "state                          2\n",
       "dtype: int64"
      ]
     },
     "execution_count": 1779,
     "metadata": {},
     "output_type": "execute_result"
    }
   ],
   "source": [
    "merged_df2.isnull().sum()"
   ]
  },
  {
   "cell_type": "markdown",
   "metadata": {},
   "source": [
    "# lots of null values... Remember that this is published data, so...\n",
    "\n",
    "##   1.We can't really delete the values and have a reliable analysis. \n",
    "##   2.We cannot collect more data, as the collecting period is over, and, \n",
    "##   3.We wouldn't be able to resample the population, let alone followup with the data authority. so...\n",
    "\n",
    "\n",
    "### I propose some form of imputation!"
   ]
  },
  {
   "cell_type": "markdown",
   "metadata": {},
   "source": [
    "But first, just a quick percentage check:"
   ]
  },
  {
   "cell_type": "code",
   "execution_count": 1802,
   "metadata": {},
   "outputs": [
    {
     "data": {
      "text/plain": [
       "provider_number              100.000000\n",
       "pr_num                        98.911071\n",
       "pr_rate_per_1000              97.701149\n",
       "seclusion_num                 98.911071\n",
       "seclusion_rate_per_1000       97.338173\n",
       "antipsychotics_num            50.635209\n",
       "antipsychotics_percentage     46.158500\n",
       "alcohol_num                   95.523291\n",
       "alcohol_percentage            95.523291\n",
       "tobacco_num                   96.249244\n",
       "tobacco_percentage            96.249244\n",
       "followup_30_num               81.004235\n",
       "followup_30_percentage        81.004235\n",
       "followup_7_num                69.026013\n",
       "followup_7_percentage         69.026013\n",
       "state                         99.879008\n",
       "dtype: float64"
      ]
     },
     "execution_count": 1802,
     "metadata": {},
     "output_type": "execute_result"
    }
   ],
   "source": [
    "(merged_df2.notnull().sum() / 1653)*100"
   ]
  },
  {
   "cell_type": "markdown",
   "metadata": {},
   "source": [
    "### For psychotropic medications, roughly half of the data is missing, and I think we wouldn't be able to make fair inferences on those things by deleting or imputing. The same concept goes for the followup data.\n",
    "\n"
   ]
  },
  {
   "cell_type": "code",
   "execution_count": 1781,
   "metadata": {},
   "outputs": [
    {
     "data": {
      "text/plain": [
       "Text(0,0.5,'% of Data Missing')"
      ]
     },
     "execution_count": 1781,
     "metadata": {},
     "output_type": "execute_result"
    },
    {
     "data": {
      "image/png": "[encoded data removed]",
      "text/plain": [
       "<Figure size 576x432 with 1 Axes>"
      ]
     },
     "metadata": {
      "needs_background": "light"
     },
     "output_type": "display_data"
    }
   ],
   "source": [
    "((merged_df2.isnull().sum() / 1653)*100).plot(kind = \"bar\")\n",
    "plt.title(\"What Percentage of Data is Missing???\")\n",
    "plt.ylabel(\"% of Data Missing\")"
   ]
  },
  {
   "cell_type": "code",
   "execution_count": 1782,
   "metadata": {},
   "outputs": [],
   "source": [
    "# df name change\n",
    "cleaned_df = merged_df2"
   ]
  },
  {
   "cell_type": "markdown",
   "metadata": {},
   "source": [
    "## Imputing values (mean)"
   ]
  },
  {
   "cell_type": "code",
   "execution_count": 1783,
   "metadata": {},
   "outputs": [],
   "source": [
    "# Dropping the two states that have na values\n",
    "cleaned_df = cleaned_df.dropna(how = \"any\", subset = [\"state\"], inplace = False)\n",
    "# imputing mean values\n",
    "cleaned_df = cleaned_df.fillna(value = {\"pr_num\":cleaned_df[\"pr_num\"].mean()})\n",
    "cleaned_df = cleaned_df.fillna(value = {\"pr_rate_per_1000\":cleaned_df[\"pr_rate_per_1000\"].mean()})\n",
    "cleaned_df = cleaned_df.fillna(value = {\"seclusion_num\":cleaned_df[\"seclusion_num\"].mean()})\n",
    "cleaned_df = cleaned_df.fillna(value = {\"seclusion_rate_per_1000\":cleaned_df[\"seclusion_rate_per_1000\"].mean()})\n",
    "cleaned_df = cleaned_df.fillna(value = {\"alcohol_num\":cleaned_df[\"alcohol_num\"].mean()})\n",
    "cleaned_df = cleaned_df.fillna(value = {\"alcohol_percentage\":cleaned_df[\"alcohol_percentage\"].mean()})\n",
    "cleaned_df = cleaned_df.fillna(value = {\"tobacco_num\":cleaned_df[\"tobacco_num\"].mean()})\n",
    "cleaned_df = cleaned_df.fillna(value = {\"tobacco_percentage\":cleaned_df[\"tobacco_percentage\"].mean()})\n",
    "#cleaned_df = cleaned_df.fillna(value = {\"followup_30_num\":cleaned_df[\"followup_30_num\"].mean()})\n",
    "#cleaned_df = cleaned_df.fillna(value = {\"followup_7_num\":cleaned_df[\"followup_7_num\"].mean()})\n",
    "\n",
    "\n"
   ]
  },
  {
   "cell_type": "code",
   "execution_count": 1784,
   "metadata": {},
   "outputs": [
    {
     "data": {
      "text/plain": [
       "provider_number                0\n",
       "pr_num                         0\n",
       "pr_rate_per_1000               0\n",
       "seclusion_num                  0\n",
       "seclusion_rate_per_1000        0\n",
       "antipsychotics_num           814\n",
       "antipsychotics_percentage    888\n",
       "alcohol_num                    0\n",
       "alcohol_percentage             0\n",
       "tobacco_num                    0\n",
       "tobacco_percentage             0\n",
       "followup_30_num              312\n",
       "followup_30_percentage       312\n",
       "followup_7_num               510\n",
       "followup_7_percentage        510\n",
       "state                          0\n",
       "dtype: int64"
      ]
     },
     "execution_count": 1784,
     "metadata": {},
     "output_type": "execute_result"
    }
   ],
   "source": [
    "cleaned_df.isnull().sum()"
   ]
  },
  {
   "cell_type": "markdown",
   "metadata": {},
   "source": [
    "We lost two rows by deleting the \"state\" na values, but that's probably a good thing because we lost 2 na values for the remaining columns."
   ]
  },
  {
   "cell_type": "markdown",
   "metadata": {},
   "source": [
    "## question 1: \"which states \"restrained\" the most people?"
   ]
  },
  {
   "cell_type": "code",
   "execution_count": 1785,
   "metadata": {},
   "outputs": [
    {
     "data": {
      "text/plain": [
       "264519.6453577982"
      ]
     },
     "execution_count": 1785,
     "metadata": {},
     "output_type": "execute_result"
    }
   ],
   "source": [
    "# the total number of people \"restrained\" in the participating hospitals\n",
    "cleaned_df[\"pr_num\"].sum()"
   ]
  },
  {
   "cell_type": "code",
   "execution_count": 1786,
   "metadata": {},
   "outputs": [
    {
     "data": {
      "text/html": [
       "<div>\n",
       "<style scoped>\n",
       "    .dataframe tbody tr th:only-of-type {\n",
       "        vertical-align: middle;\n",
       "    }\n",
       "\n",
       "    .dataframe tbody tr th {\n",
       "        vertical-align: top;\n",
       "    }\n",
       "\n",
       "    .dataframe thead th {\n",
       "        text-align: right;\n",
       "    }\n",
       "</style>\n",
       "<table border=\"1\" class=\"dataframe\">\n",
       "  <thead>\n",
       "    <tr style=\"text-align: right;\">\n",
       "      <th></th>\n",
       "      <th>pr_num</th>\n",
       "    </tr>\n",
       "    <tr>\n",
       "      <th>state</th>\n",
       "      <th></th>\n",
       "    </tr>\n",
       "  </thead>\n",
       "  <tbody>\n",
       "    <tr>\n",
       "      <th>MI</th>\n",
       "      <td>23443.300000</td>\n",
       "    </tr>\n",
       "    <tr>\n",
       "      <th>IN</th>\n",
       "      <td>20327.800000</td>\n",
       "    </tr>\n",
       "    <tr>\n",
       "      <th>NY</th>\n",
       "      <td>19463.600000</td>\n",
       "    </tr>\n",
       "    <tr>\n",
       "      <th>CA</th>\n",
       "      <td>19406.827835</td>\n",
       "    </tr>\n",
       "    <tr>\n",
       "      <th>IL</th>\n",
       "      <td>15378.777835</td>\n",
       "    </tr>\n",
       "    <tr>\n",
       "      <th>WA</th>\n",
       "      <td>15222.077835</td>\n",
       "    </tr>\n",
       "    <tr>\n",
       "      <th>PA</th>\n",
       "      <td>13685.057835</td>\n",
       "    </tr>\n",
       "    <tr>\n",
       "      <th>TN</th>\n",
       "      <td>13063.000000</td>\n",
       "    </tr>\n",
       "    <tr>\n",
       "      <th>FL</th>\n",
       "      <td>9454.100000</td>\n",
       "    </tr>\n",
       "    <tr>\n",
       "      <th>UT</th>\n",
       "      <td>9349.250000</td>\n",
       "    </tr>\n",
       "  </tbody>\n",
       "</table>\n",
       "</div>"
      ],
      "text/plain": [
       "             pr_num\n",
       "state              \n",
       "MI     23443.300000\n",
       "IN     20327.800000\n",
       "NY     19463.600000\n",
       "CA     19406.827835\n",
       "IL     15378.777835\n",
       "WA     15222.077835\n",
       "PA     13685.057835\n",
       "TN     13063.000000\n",
       "FL      9454.100000\n",
       "UT      9349.250000"
      ]
     },
     "execution_count": 1786,
     "metadata": {},
     "output_type": "execute_result"
    }
   ],
   "source": [
    "#\"Top Ten\" states with respect to restraint\n",
    "cleaned_df[[\"state\", \"pr_num\"]].groupby(by = \"state\").sum().sort_values(\"pr_num\", ascending = False).head(10)"
   ]
  },
  {
   "cell_type": "code",
   "execution_count": 1787,
   "metadata": {},
   "outputs": [
    {
     "data": {
      "text/plain": [
       "<matplotlib.legend.Legend at 0x11d835ed0>"
      ]
     },
     "execution_count": 1787,
     "metadata": {},
     "output_type": "execute_result"
    },
    {
     "data": {
      "image/png": "[encoded data removed]",
      "text/plain": [
       "<Figure size 576x432 with 1 Axes>"
      ]
     },
     "metadata": {
      "needs_background": "light"
     },
     "output_type": "display_data"
    }
   ],
   "source": [
    "cleaned_df[[\"state\", \"pr_num\"]].groupby(by = \"state\").sum().sort_values(\"pr_num\", ascending = False).head(10).plot(kind = \"bar\")\n",
    "plt.ylabel(\"Number of people\")\n",
    "plt.title(\"Physical Restraint: Top Ten States\")\n",
    "plt.legend(\"\")"
   ]
  },
  {
   "cell_type": "code",
   "execution_count": 1788,
   "metadata": {},
   "outputs": [
    {
     "data": {
      "text/html": [
       "<div>\n",
       "<style scoped>\n",
       "    .dataframe tbody tr th:only-of-type {\n",
       "        vertical-align: middle;\n",
       "    }\n",
       "\n",
       "    .dataframe tbody tr th {\n",
       "        vertical-align: top;\n",
       "    }\n",
       "\n",
       "    .dataframe thead th {\n",
       "        text-align: right;\n",
       "    }\n",
       "</style>\n",
       "<table border=\"1\" class=\"dataframe\">\n",
       "  <thead>\n",
       "    <tr style=\"text-align: right;\">\n",
       "      <th></th>\n",
       "      <th>pr_num</th>\n",
       "    </tr>\n",
       "    <tr>\n",
       "      <th>state</th>\n",
       "      <th></th>\n",
       "    </tr>\n",
       "  </thead>\n",
       "  <tbody>\n",
       "    <tr>\n",
       "      <th>MI</th>\n",
       "      <td>8.862593</td>\n",
       "    </tr>\n",
       "    <tr>\n",
       "      <th>IN</th>\n",
       "      <td>7.684798</td>\n",
       "    </tr>\n",
       "    <tr>\n",
       "      <th>NY</th>\n",
       "      <td>7.358092</td>\n",
       "    </tr>\n",
       "    <tr>\n",
       "      <th>CA</th>\n",
       "      <td>7.336630</td>\n",
       "    </tr>\n",
       "    <tr>\n",
       "      <th>IL</th>\n",
       "      <td>5.813851</td>\n",
       "    </tr>\n",
       "    <tr>\n",
       "      <th>WA</th>\n",
       "      <td>5.754611</td>\n",
       "    </tr>\n",
       "    <tr>\n",
       "      <th>PA</th>\n",
       "      <td>5.173551</td>\n",
       "    </tr>\n",
       "    <tr>\n",
       "      <th>TN</th>\n",
       "      <td>4.938386</td>\n",
       "    </tr>\n",
       "    <tr>\n",
       "      <th>FL</th>\n",
       "      <td>3.574063</td>\n",
       "    </tr>\n",
       "    <tr>\n",
       "      <th>UT</th>\n",
       "      <td>3.534426</td>\n",
       "    </tr>\n",
       "  </tbody>\n",
       "</table>\n",
       "</div>"
      ],
      "text/plain": [
       "         pr_num\n",
       "state          \n",
       "MI     8.862593\n",
       "IN     7.684798\n",
       "NY     7.358092\n",
       "CA     7.336630\n",
       "IL     5.813851\n",
       "WA     5.754611\n",
       "PA     5.173551\n",
       "TN     4.938386\n",
       "FL     3.574063\n",
       "UT     3.534426"
      ]
     },
     "execution_count": 1788,
     "metadata": {},
     "output_type": "execute_result"
    }
   ],
   "source": [
    "# percent of those restrained that each state restrained, \"Top Ten\"\n",
    "((cleaned_df[[\"state\", \"pr_num\"]].groupby(by = \"state\").sum().sort_values(\"pr_num\", ascending = False) \\\n",
    "/ cleaned_df[\"pr_num\"].sum()).head(10)*100)"
   ]
  },
  {
   "cell_type": "code",
   "execution_count": 1789,
   "metadata": {},
   "outputs": [
    {
     "data": {
      "text/plain": [
       "<matplotlib.legend.Legend at 0x11ec13910>"
      ]
     },
     "execution_count": 1789,
     "metadata": {},
     "output_type": "execute_result"
    },
    {
     "data": {
      "image/png": "[encoded data removed]",
      "text/plain": [
       "<Figure size 576x432 with 1 Axes>"
      ]
     },
     "metadata": {
      "needs_background": "light"
     },
     "output_type": "display_data"
    }
   ],
   "source": [
    "(((cleaned_df[[\"state\", \"pr_num\"]].groupby(by = \"state\").sum().sort_values(\"pr_num\", ascending = False) \\\n",
    "/ cleaned_df[\"pr_num\"].sum()).head(10))*100).plot(kind = \"bar\") \n",
    "plt.ylabel(\"Percentage\")\n",
    "plt.title(\"Physical Restraint % : Top Ten States\")\n",
    "plt.legend(\"\")"
   ]
  },
  {
   "cell_type": "markdown",
   "metadata": {},
   "source": [
    "## question 2: \"which states \"secluded\" the most people?"
   ]
  },
  {
   "cell_type": "code",
   "execution_count": 1790,
   "metadata": {},
   "outputs": [
    {
     "data": {
      "text/plain": [
       "173880.95710091744"
      ]
     },
     "execution_count": 1790,
     "metadata": {},
     "output_type": "execute_result"
    }
   ],
   "source": [
    "# Total number of people to seclusion\n",
    "cleaned_df[\"seclusion_num\"].sum()"
   ]
  },
  {
   "cell_type": "code",
   "execution_count": 1791,
   "metadata": {},
   "outputs": [
    {
     "data": {
      "text/html": [
       "<div>\n",
       "<style scoped>\n",
       "    .dataframe tbody tr th:only-of-type {\n",
       "        vertical-align: middle;\n",
       "    }\n",
       "\n",
       "    .dataframe tbody tr th {\n",
       "        vertical-align: top;\n",
       "    }\n",
       "\n",
       "    .dataframe thead th {\n",
       "        text-align: right;\n",
       "    }\n",
       "</style>\n",
       "<table border=\"1\" class=\"dataframe\">\n",
       "  <thead>\n",
       "    <tr style=\"text-align: right;\">\n",
       "      <th></th>\n",
       "      <th>seclusion_num</th>\n",
       "    </tr>\n",
       "    <tr>\n",
       "      <th>state</th>\n",
       "      <th></th>\n",
       "    </tr>\n",
       "  </thead>\n",
       "  <tbody>\n",
       "    <tr>\n",
       "      <th>WA</th>\n",
       "      <td>28338.058569</td>\n",
       "    </tr>\n",
       "    <tr>\n",
       "      <th>CA</th>\n",
       "      <td>12355.478569</td>\n",
       "    </tr>\n",
       "    <tr>\n",
       "      <th>PA</th>\n",
       "      <td>9616.988569</td>\n",
       "    </tr>\n",
       "    <tr>\n",
       "      <th>NY</th>\n",
       "      <td>9595.450000</td>\n",
       "    </tr>\n",
       "    <tr>\n",
       "      <th>OH</th>\n",
       "      <td>9412.490000</td>\n",
       "    </tr>\n",
       "    <tr>\n",
       "      <th>OR</th>\n",
       "      <td>7920.188569</td>\n",
       "    </tr>\n",
       "    <tr>\n",
       "      <th>IA</th>\n",
       "      <td>6119.710000</td>\n",
       "    </tr>\n",
       "    <tr>\n",
       "      <th>MN</th>\n",
       "      <td>5748.347138</td>\n",
       "    </tr>\n",
       "    <tr>\n",
       "      <th>ND</th>\n",
       "      <td>5623.060000</td>\n",
       "    </tr>\n",
       "    <tr>\n",
       "      <th>VA</th>\n",
       "      <td>5289.860000</td>\n",
       "    </tr>\n",
       "  </tbody>\n",
       "</table>\n",
       "</div>"
      ],
      "text/plain": [
       "       seclusion_num\n",
       "state               \n",
       "WA      28338.058569\n",
       "CA      12355.478569\n",
       "PA       9616.988569\n",
       "NY       9595.450000\n",
       "OH       9412.490000\n",
       "OR       7920.188569\n",
       "IA       6119.710000\n",
       "MN       5748.347138\n",
       "ND       5623.060000\n",
       "VA       5289.860000"
      ]
     },
     "execution_count": 1791,
     "metadata": {},
     "output_type": "execute_result"
    }
   ],
   "source": [
    "#\"Top Ten\" states for seclusion over the measurement period\n",
    "cleaned_df[[\"state\", \"seclusion_num\"]].groupby(by = \"state\").sum().sort_values(\"seclusion_num\", ascending = False).head(10)"
   ]
  },
  {
   "cell_type": "code",
   "execution_count": 1792,
   "metadata": {},
   "outputs": [
    {
     "data": {
      "text/plain": [
       "<matplotlib.legend.Legend at 0x122921150>"
      ]
     },
     "execution_count": 1792,
     "metadata": {},
     "output_type": "execute_result"
    },
    {
     "data": {
      "image/png": "[encoded data removed]",
      "text/plain": [
       "<Figure size 576x432 with 1 Axes>"
      ]
     },
     "metadata": {
      "needs_background": "light"
     },
     "output_type": "display_data"
    }
   ],
   "source": [
    "((cleaned_df[[\"state\", \"seclusion_num\"]].groupby(by = \"state\").sum().sort_values(\"seclusion_num\", ascending = False) \\\n",
    "/ cleaned_df[\"seclusion_num\"].sum()).head(10)).plot(kind = \"bar\") \n",
    "plt.ylabel(\"Number of People\")\n",
    "plt.title(\"Seclusion: Top Ten States\")\n",
    "plt.legend(\"\")"
   ]
  },
  {
   "cell_type": "code",
   "execution_count": 1793,
   "metadata": {},
   "outputs": [
    {
     "data": {
      "text/html": [
       "<div>\n",
       "<style scoped>\n",
       "    .dataframe tbody tr th:only-of-type {\n",
       "        vertical-align: middle;\n",
       "    }\n",
       "\n",
       "    .dataframe tbody tr th {\n",
       "        vertical-align: top;\n",
       "    }\n",
       "\n",
       "    .dataframe thead th {\n",
       "        text-align: right;\n",
       "    }\n",
       "</style>\n",
       "<table border=\"1\" class=\"dataframe\">\n",
       "  <thead>\n",
       "    <tr style=\"text-align: right;\">\n",
       "      <th></th>\n",
       "      <th>seclusion_num</th>\n",
       "    </tr>\n",
       "    <tr>\n",
       "      <th>state</th>\n",
       "      <th></th>\n",
       "    </tr>\n",
       "  </thead>\n",
       "  <tbody>\n",
       "    <tr>\n",
       "      <th>WA</th>\n",
       "      <td>16.297390</td>\n",
       "    </tr>\n",
       "    <tr>\n",
       "      <th>CA</th>\n",
       "      <td>7.105711</td>\n",
       "    </tr>\n",
       "    <tr>\n",
       "      <th>PA</th>\n",
       "      <td>5.530789</td>\n",
       "    </tr>\n",
       "    <tr>\n",
       "      <th>NY</th>\n",
       "      <td>5.518402</td>\n",
       "    </tr>\n",
       "    <tr>\n",
       "      <th>OH</th>\n",
       "      <td>5.413180</td>\n",
       "    </tr>\n",
       "    <tr>\n",
       "      <th>OR</th>\n",
       "      <td>4.554949</td>\n",
       "    </tr>\n",
       "    <tr>\n",
       "      <th>IA</th>\n",
       "      <td>3.519483</td>\n",
       "    </tr>\n",
       "    <tr>\n",
       "      <th>MN</th>\n",
       "      <td>3.305910</td>\n",
       "    </tr>\n",
       "    <tr>\n",
       "      <th>ND</th>\n",
       "      <td>3.233856</td>\n",
       "    </tr>\n",
       "    <tr>\n",
       "      <th>VA</th>\n",
       "      <td>3.042231</td>\n",
       "    </tr>\n",
       "  </tbody>\n",
       "</table>\n",
       "</div>"
      ],
      "text/plain": [
       "       seclusion_num\n",
       "state               \n",
       "WA         16.297390\n",
       "CA          7.105711\n",
       "PA          5.530789\n",
       "NY          5.518402\n",
       "OH          5.413180\n",
       "OR          4.554949\n",
       "IA          3.519483\n",
       "MN          3.305910\n",
       "ND          3.233856\n",
       "VA          3.042231"
      ]
     },
     "execution_count": 1793,
     "metadata": {},
     "output_type": "execute_result"
    }
   ],
   "source": [
    "# percent of those restrained that each state secluded, \"Top Ten\"\n",
    "((cleaned_df[[\"state\", \"seclusion_num\"]].groupby(by = \"state\").sum().sort_values(\"seclusion_num\", ascending = False) \\\n",
    "/ cleaned_df[\"seclusion_num\"].sum()).head(10)*100)"
   ]
  },
  {
   "cell_type": "code",
   "execution_count": 1794,
   "metadata": {},
   "outputs": [
    {
     "data": {
      "text/plain": [
       "<matplotlib.legend.Legend at 0x123fdac90>"
      ]
     },
     "execution_count": 1794,
     "metadata": {},
     "output_type": "execute_result"
    },
    {
     "data": {
      "image/png": "[encoded data removed]",
      "text/plain": [
       "<Figure size 576x432 with 1 Axes>"
      ]
     },
     "metadata": {
      "needs_background": "light"
     },
     "output_type": "display_data"
    }
   ],
   "source": [
    "(((cleaned_df[[\"state\", \"seclusion_num\"]].groupby(by = \"state\").sum().sort_values(\"seclusion_num\", ascending = False) \\\n",
    "/ cleaned_df[\"seclusion_num\"].sum()).head(10))*100).plot(kind = \"bar\") \n",
    "plt.ylabel(\"Percentage\")\n",
    "plt.title(\"Seclusion % : Top Ten States\")\n",
    "plt.legend(\"\")"
   ]
  },
  {
   "cell_type": "markdown",
   "metadata": {},
   "source": [
    "### Wow... Apparently, Washington state had about 16% of all instances of seclusion, more than twice the number two state, California, which had 7% of all instances of seclusion."
   ]
  },
  {
   "cell_type": "markdown",
   "metadata": {},
   "source": [
    "# WARNING: Pie Chart...Coming right up, right now!"
   ]
  },
  {
   "cell_type": "code",
   "execution_count": 1805,
   "metadata": {},
   "outputs": [
    {
     "data": {
      "text/plain": [
       "<matplotlib.legend.Legend at 0x124cf3cd0>"
      ]
     },
     "execution_count": 1805,
     "metadata": {},
     "output_type": "execute_result"
    },
    {
     "data": {
      "image/png": "[encoded data removed]",
      "text/plain": [
       "<Figure size 576x432 with 1 Axes>"
      ]
     },
     "metadata": {},
     "output_type": "display_data"
    }
   ],
   "source": [
    "plt.pie(\n",
    "(((cleaned_df[[\"state\", \"seclusion_num\"]].groupby(by = \"state\").sum().sort_values(\"seclusion_num\", ascending = False) \\\n",
    "\n",
    "   / cleaned_df[\"seclusion_num\"].sum()))*100))\n",
    "\n",
    "\n",
    "plt.ylabel(\"Percentages\")\n",
    "plt.title(\"The LARGE BLUE Slice is Washington State (~16.3%) ; The Orange slice is California (~7.1%)\")\n",
    "plt.legend(\"\")\n",
    "\n",
    "\n"
   ]
  },
  {
   "cell_type": "markdown",
   "metadata": {},
   "source": [
    "## Thanks so much, and I hope you enjoyed the presentation!"
   ]
  }
 ],
 "metadata": {
  "kernelspec": {
   "display_name": "Python 2",
   "language": "python",
   "name": "python2"
  },
  "language_info": {
   "codemirror_mode": {
    "name": "ipython",
    "version": 2
   },
   "file_extension": ".py",
   "mimetype": "text/x-python",
   "name": "python",
   "nbconvert_exporter": "python",
   "pygments_lexer": "ipython2",
   "version": "2.7.15"
  }
 },
 "nbformat": 4,
 "nbformat_minor": 2
}
